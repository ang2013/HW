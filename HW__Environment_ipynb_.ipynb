{
  "cells": [
    {
      "cell_type": "code",
      "execution_count": null,
      "metadata": {
        "id": "MXXTuy_o0sjk"
      },
      "outputs": [],
      "source": [
        "!pip install -q -U kaggle_environments"
      ]
    },
    {
      "cell_type": "code",
      "execution_count": null,
      "metadata": {
        "id": "yz23vWHD0wcj"
      },
      "outputs": [],
      "source": [
        "import numpy as np\n",
        "import pandas as pd\n",
        "import random\n",
        "\n",
        "import matplotlib.pyplot as plt\n",
        "import seaborn as sns\n",
        "\n",
        "from kaggle_environments import make, evaluate\n",
        "from kaggle_environments.envs.rps.utils import get_score"
      ]
    },
    {
      "cell_type": "markdown",
      "source": [
        "Опишем поведение агента, всегда играющего \"камень\", это значение 0"
      ],
      "metadata": {
        "id": "bO72W_kA-Ka5"
      }
    },
    {
      "cell_type": "code",
      "execution_count": null,
      "metadata": {
        "id": "bqTqV7B92rJ6"
      },
      "outputs": [],
      "source": [
        "def rock (observation, configuration):\n",
        "    return 0"
      ]
    },
    {
      "cell_type": "markdown",
      "metadata": {
        "id": "YWodcVtWpYoK"
      },
      "source": [
        "Опишем поведение агента, всегда играющего \"бумагу\" - это значение 1"
      ]
    },
    {
      "cell_type": "code",
      "execution_count": null,
      "metadata": {
        "id": "VRCmxys3pp16"
      },
      "outputs": [],
      "source": [
        "def paper(observation, configuration):\n",
        "    return 1"
      ]
    },
    {
      "cell_type": "markdown",
      "metadata": {
        "id": "FMMVZB7Pphnm"
      },
      "source": [
        "Опишем поведение агента, всегда играющего \"ножницы\" - это значение 2"
      ]
    },
    {
      "cell_type": "code",
      "execution_count": null,
      "metadata": {
        "id": "j68qTfNqp2jk"
      },
      "outputs": [],
      "source": [
        "def scissors(observation, configuration):\n",
        "    return 2"
      ]
    },
    {
      "cell_type": "markdown",
      "metadata": {
        "id": "2BGn-ZmSqKN_"
      },
      "source": [
        "Опишем поведение агента, всегда играющего рандомно."
      ]
    },
    {
      "cell_type": "code",
      "execution_count": null,
      "metadata": {
        "id": "DORdGoOQqRRn"
      },
      "outputs": [],
      "source": [
        "import random\n",
        "\n",
        "def random_agent(observation, configuration):\n",
        "    return random.randrange(random.randrange(0,2), configuration.signs)"
      ]
    },
    {
      "cell_type": "markdown",
      "metadata": {
        "id": "et1J5hUGigeh"
      },
      "source": [
        "Попробуем теперь использовать информацию о прошлых действиях противника. Опишем агента, который производит то же самое действие, что и оппонент на прошлом ходу"
      ]
    },
    {
      "cell_type": "code",
      "execution_count": null,
      "metadata": {
        "id": "7l6Ttw6qi0jk"
      },
      "outputs": [],
      "source": [
        "import random\n",
        "\n",
        "def copy_opponent(observation, configuration):\n",
        "    #in case we have information about opponent last move\n",
        "    if observation.step > 0:\n",
        "        return observation.lastOpponentAction\n",
        "    #initial step\n",
        "    else:\n",
        "        return random.randrange(0, configuration.signs)"
      ]
    },
    {
      "cell_type": "markdown",
      "source": [
        "Опишем поведение агента, который в зависимости от прошлого действия оппонента, следующим ходом дает выигрышный ответ на прошлое действие соперника."
      ],
      "metadata": {
        "id": "DGAXqr_MJmd9"
      }
    },
    {
      "cell_type": "code",
      "execution_count": null,
      "metadata": {
        "id": "ImAtHflRrHWy"
      },
      "outputs": [],
      "source": [
        "import random\n",
        "last_react_action = None\n",
        "\n",
        "def reactionary (observation, configuration):\n",
        "    global last_react_action\n",
        "    if observation.step  == 0:\n",
        "        last_react_action = random.randrange(0, configuration.signs)\n",
        "    elif get_score(last_react_action, observation.lastOpponentAction) <= 1:\n",
        "        (observation.lastOpponentAction + 1) % configuration.signs\n",
        "\n",
        "    return last_react_action"
      ]
    },
    {
      "cell_type": "code",
      "execution_count": null,
      "metadata": {
        "id": "vnUqrapBX2Dm"
      },
      "outputs": [],
      "source": [
        "import random\n",
        "last_counter_action = None\n",
        "\n",
        "def counter_reactionary(observation, configuration):\n",
        "    global last_counter_action\n",
        "    if observation.step == 0:\n",
        "        last_counter_action = random.randrange(0, configuration.signs)\n",
        "    elif get_score(last_counter_action, observation.lastOpponentAction) == 1:\n",
        "        last_counter_action = (last_counter_action + 2) % configuration.signs\n",
        "    else:\n",
        "        last_counter_action = (observation.lastOpponentAction + 1) % configuration.signs\n",
        "\n",
        "    return last_counter_action"
      ]
    },
    {
      "cell_type": "code",
      "execution_count": null,
      "metadata": {
        "id": "wpEHepH0bGRZ"
      },
      "outputs": [],
      "source": [
        "import rndom\n",
        "action_histogram = {}\n",
        "\n",
        "def statistical(observation, configuration):\n",
        "    global action_histogram\n",
        "    if observation.step == 0:\n",
        "        action_histogram = {}\n",
        "        return\n",
        "    action = observation.lastOpponentAction\n",
        "    if action not in action_histogram:\n",
        "        action_histogram[action] = 0\n",
        "    action_histogram[action] += 1\n",
        "    mode_action = None\n",
        "    mode_action_count = None\n",
        "    for k, v in action_histogram.items():\n",
        "        if mode_action_count is None or v > mode_action_count:\n",
        "            mode_action = k\n",
        "            mode_action_count = v\n",
        "            continue\n",
        "\n",
        "    return (mode_action + 1) % configuration.signs"
      ]
    },
    {
      "cell_type": "markdown",
      "source": [
        "Опишем поведение агента, который производит +1 действие к тому, что использовал оппонент на прошлом ходу\n"
      ],
      "metadata": {
        "id": "DnLayMU15rAf"
      }
    },
    {
      "cell_type": "code",
      "source": [
        "import random \n",
        "\n",
        "def copy_opponent_plus (observation, configuration):\n",
        "    if observation.step > 0:\n",
        "        return (observation.lastOpponentAction + 1) % configuration.signs\n",
        "    else:\n",
        "        return random.randrange(0, configuration.signs)\n"
      ],
      "metadata": {
        "id": "jFtDzgAo5qAg"
      },
      "execution_count": null,
      "outputs": []
    },
    {
      "cell_type": "markdown",
      "source": [
        "Опишем поведение агента, который производит -1 действие к тому, что использовал опонент на прошлом ходу."
      ],
      "metadata": {
        "id": "XpuwiDNr6C8r"
      }
    },
    {
      "cell_type": "code",
      "source": [
        "import random\n",
        "\n",
        "def copy_opponent_minus (observation, configuration):\n",
        "    if observation.step > 0:\n",
        "        return (observation.lastOpponentAction + 2) % configuration.signs\n",
        "    else:\n",
        "        return random.randrange(0, configuration.signs)"
      ],
      "metadata": {
        "id": "-8-hov1F6Jw9"
      },
      "execution_count": null,
      "outputs": []
    },
    {
      "cell_type": "code",
      "execution_count": null,
      "metadata": {
        "id": "VvCU-s21YZys"
      },
      "outputs": [],
      "source": [
        "agents  = [rock, paper, scissors, copy_opponent, reactionary, counter_reactionary, statistical, random_agent, copy_opponent_plus, copy_opponent_minus]"
      ]
    },
    {
      "cell_type": "code",
      "execution_count": null,
      "metadata": {
        "id": "mOq-ngU9czOr"
      },
      "outputs": [],
      "source": [
        "agents_copy = agents.copy()"
      ]
    },
    {
      "cell_type": "code",
      "execution_count": null,
      "metadata": {
        "id": "rI3VE4RTdUFx"
      },
      "outputs": [],
      "source": [
        "resalts = []\n",
        "\n",
        "for i in agents:\n",
        "  for j in agents_copy:\n",
        "    resalts.append (evaluate(\"rps\", [i, j], configuration={\"episodeSteps\": 100}))\n",
        "    \n",
        "resalts = [x for y in resalts for x in y]"
      ]
    },
    {
      "cell_type": "code",
      "execution_count": null,
      "metadata": {
        "id": "bqpPLIyrzaD1"
      },
      "outputs": [],
      "source": [
        "for i in resalts:\n",
        "  del i[0]"
      ]
    },
    {
      "cell_type": "code",
      "execution_count": null,
      "metadata": {
        "id": "HAbXCRPn0Iwy"
      },
      "outputs": [],
      "source": [
        "resalts = [x for y in resalts for x in y]"
      ]
    },
    {
      "cell_type": "code",
      "execution_count": null,
      "metadata": {
        "id": "aNihEe2mUR-x"
      },
      "outputs": [],
      "source": [
        "dictionary = {'rock': resalts[:10],\n",
        "     'paper': resalts[10:20],\n",
        "     'scissors': resalts[20:30],\n",
        "     'copy_opponent': resalts[30:40],\n",
        "     'reactionary': resalts[40:50],\n",
        "     'counter_reactionary': resalts[50:60],\n",
        "     'statistical': resalts[60:70],\n",
        "     'random_agent': resalts[70:80],\n",
        "     'copy_opponent_plus': resalts [80:90],\n",
        "     'copy_opponent_minus': resalts [90:100]\n",
        "    }\n",
        "\n",
        "df = pd.DataFrame(dictionary, index = dictionary.keys())"
      ]
    },
    {
      "cell_type": "code",
      "execution_count": null,
      "metadata": {
        "id": "Vtf6tItJTwzZ",
        "colab": {
          "base_uri": "https://localhost:8080/",
          "height": 427
        },
        "outputId": "e02a3650-506f-4062-915f-d87a231f9f1a"
      },
      "outputs": [
        {
          "output_type": "display_data",
          "data": {
            "text/plain": [
              "                     rock  paper  scissors  copy_opponent  reactionary  \\\n",
              "rock                  0.0  -99.0      99.0            0.0         99.0   \n",
              "paper                99.0    0.0     -99.0            0.0          0.0   \n",
              "scissors            -99.0   99.0       0.0            0.0         99.0   \n",
              "copy_opponent         0.0    0.0       0.0            0.0          0.0   \n",
              "reactionary         -99.0   99.0       0.0            0.0          0.0   \n",
              "counter_reactionary  48.0   48.0      50.0          -99.0         48.0   \n",
              "statistical          98.0   97.0      99.0           22.0         99.0   \n",
              "random_agent          0.0   34.0     -23.0            0.0        -24.0   \n",
              "copy_opponent_plus   97.0   97.0      98.0           49.0         99.0   \n",
              "copy_opponent_minus -97.0  -97.0     -98.0          -50.0        -99.0   \n",
              "\n",
              "                     counter_reactionary  statistical  random_agent  \\\n",
              "rock                               -50.0        -98.0           0.0   \n",
              "paper                              -50.0        -97.0         -25.0   \n",
              "scissors                           -48.0        -99.0           0.0   \n",
              "copy_opponent                       96.0        -21.0           0.0   \n",
              "reactionary                        -49.0        -99.0           0.0   \n",
              "counter_reactionary                  0.0          0.0           0.0   \n",
              "statistical                          0.0          0.0           0.0   \n",
              "random_agent                         0.0          0.0           0.0   \n",
              "copy_opponent_plus                   0.0         49.0          22.0   \n",
              "copy_opponent_minus                 50.0        -96.0           0.0   \n",
              "\n",
              "                     copy_opponent_plus  copy_opponent_minus  \n",
              "rock                              -99.0                 99.0  \n",
              "paper                             -97.0                 99.0  \n",
              "scissors                          -99.0                 98.0  \n",
              "copy_opponent                     -49.0                 49.0  \n",
              "reactionary                       -97.0                 97.0  \n",
              "counter_reactionary                99.0                -48.0  \n",
              "statistical                       -59.0                 96.0  \n",
              "random_agent                        0.0                  0.0  \n",
              "copy_opponent_plus                  0.0                 99.0  \n",
              "copy_opponent_minus                49.0                  0.0  "
            ],
            "text/html": [
              "\n",
              "  <div id=\"df-ca1553a9-1550-4369-a14a-ffb0691f707d\">\n",
              "    <div class=\"colab-df-container\">\n",
              "      <div>\n",
              "<style scoped>\n",
              "    .dataframe tbody tr th:only-of-type {\n",
              "        vertical-align: middle;\n",
              "    }\n",
              "\n",
              "    .dataframe tbody tr th {\n",
              "        vertical-align: top;\n",
              "    }\n",
              "\n",
              "    .dataframe thead th {\n",
              "        text-align: right;\n",
              "    }\n",
              "</style>\n",
              "<table border=\"1\" class=\"dataframe\">\n",
              "  <thead>\n",
              "    <tr style=\"text-align: right;\">\n",
              "      <th></th>\n",
              "      <th>rock</th>\n",
              "      <th>paper</th>\n",
              "      <th>scissors</th>\n",
              "      <th>copy_opponent</th>\n",
              "      <th>reactionary</th>\n",
              "      <th>counter_reactionary</th>\n",
              "      <th>statistical</th>\n",
              "      <th>random_agent</th>\n",
              "      <th>copy_opponent_plus</th>\n",
              "      <th>copy_opponent_minus</th>\n",
              "    </tr>\n",
              "  </thead>\n",
              "  <tbody>\n",
              "    <tr>\n",
              "      <th>rock</th>\n",
              "      <td>0.0</td>\n",
              "      <td>-99.0</td>\n",
              "      <td>99.0</td>\n",
              "      <td>0.0</td>\n",
              "      <td>99.0</td>\n",
              "      <td>-50.0</td>\n",
              "      <td>-98.0</td>\n",
              "      <td>0.0</td>\n",
              "      <td>-99.0</td>\n",
              "      <td>99.0</td>\n",
              "    </tr>\n",
              "    <tr>\n",
              "      <th>paper</th>\n",
              "      <td>99.0</td>\n",
              "      <td>0.0</td>\n",
              "      <td>-99.0</td>\n",
              "      <td>0.0</td>\n",
              "      <td>0.0</td>\n",
              "      <td>-50.0</td>\n",
              "      <td>-97.0</td>\n",
              "      <td>-25.0</td>\n",
              "      <td>-97.0</td>\n",
              "      <td>99.0</td>\n",
              "    </tr>\n",
              "    <tr>\n",
              "      <th>scissors</th>\n",
              "      <td>-99.0</td>\n",
              "      <td>99.0</td>\n",
              "      <td>0.0</td>\n",
              "      <td>0.0</td>\n",
              "      <td>99.0</td>\n",
              "      <td>-48.0</td>\n",
              "      <td>-99.0</td>\n",
              "      <td>0.0</td>\n",
              "      <td>-99.0</td>\n",
              "      <td>98.0</td>\n",
              "    </tr>\n",
              "    <tr>\n",
              "      <th>copy_opponent</th>\n",
              "      <td>0.0</td>\n",
              "      <td>0.0</td>\n",
              "      <td>0.0</td>\n",
              "      <td>0.0</td>\n",
              "      <td>0.0</td>\n",
              "      <td>96.0</td>\n",
              "      <td>-21.0</td>\n",
              "      <td>0.0</td>\n",
              "      <td>-49.0</td>\n",
              "      <td>49.0</td>\n",
              "    </tr>\n",
              "    <tr>\n",
              "      <th>reactionary</th>\n",
              "      <td>-99.0</td>\n",
              "      <td>99.0</td>\n",
              "      <td>0.0</td>\n",
              "      <td>0.0</td>\n",
              "      <td>0.0</td>\n",
              "      <td>-49.0</td>\n",
              "      <td>-99.0</td>\n",
              "      <td>0.0</td>\n",
              "      <td>-97.0</td>\n",
              "      <td>97.0</td>\n",
              "    </tr>\n",
              "    <tr>\n",
              "      <th>counter_reactionary</th>\n",
              "      <td>48.0</td>\n",
              "      <td>48.0</td>\n",
              "      <td>50.0</td>\n",
              "      <td>-99.0</td>\n",
              "      <td>48.0</td>\n",
              "      <td>0.0</td>\n",
              "      <td>0.0</td>\n",
              "      <td>0.0</td>\n",
              "      <td>99.0</td>\n",
              "      <td>-48.0</td>\n",
              "    </tr>\n",
              "    <tr>\n",
              "      <th>statistical</th>\n",
              "      <td>98.0</td>\n",
              "      <td>97.0</td>\n",
              "      <td>99.0</td>\n",
              "      <td>22.0</td>\n",
              "      <td>99.0</td>\n",
              "      <td>0.0</td>\n",
              "      <td>0.0</td>\n",
              "      <td>0.0</td>\n",
              "      <td>-59.0</td>\n",
              "      <td>96.0</td>\n",
              "    </tr>\n",
              "    <tr>\n",
              "      <th>random_agent</th>\n",
              "      <td>0.0</td>\n",
              "      <td>34.0</td>\n",
              "      <td>-23.0</td>\n",
              "      <td>0.0</td>\n",
              "      <td>-24.0</td>\n",
              "      <td>0.0</td>\n",
              "      <td>0.0</td>\n",
              "      <td>0.0</td>\n",
              "      <td>0.0</td>\n",
              "      <td>0.0</td>\n",
              "    </tr>\n",
              "    <tr>\n",
              "      <th>copy_opponent_plus</th>\n",
              "      <td>97.0</td>\n",
              "      <td>97.0</td>\n",
              "      <td>98.0</td>\n",
              "      <td>49.0</td>\n",
              "      <td>99.0</td>\n",
              "      <td>0.0</td>\n",
              "      <td>49.0</td>\n",
              "      <td>22.0</td>\n",
              "      <td>0.0</td>\n",
              "      <td>99.0</td>\n",
              "    </tr>\n",
              "    <tr>\n",
              "      <th>copy_opponent_minus</th>\n",
              "      <td>-97.0</td>\n",
              "      <td>-97.0</td>\n",
              "      <td>-98.0</td>\n",
              "      <td>-50.0</td>\n",
              "      <td>-99.0</td>\n",
              "      <td>50.0</td>\n",
              "      <td>-96.0</td>\n",
              "      <td>0.0</td>\n",
              "      <td>49.0</td>\n",
              "      <td>0.0</td>\n",
              "    </tr>\n",
              "  </tbody>\n",
              "</table>\n",
              "</div>\n",
              "      <button class=\"colab-df-convert\" onclick=\"convertToInteractive('df-ca1553a9-1550-4369-a14a-ffb0691f707d')\"\n",
              "              title=\"Convert this dataframe to an interactive table.\"\n",
              "              style=\"display:none;\">\n",
              "        \n",
              "  <svg xmlns=\"http://www.w3.org/2000/svg\" height=\"24px\"viewBox=\"0 0 24 24\"\n",
              "       width=\"24px\">\n",
              "    <path d=\"M0 0h24v24H0V0z\" fill=\"none\"/>\n",
              "    <path d=\"M18.56 5.44l.94 2.06.94-2.06 2.06-.94-2.06-.94-.94-2.06-.94 2.06-2.06.94zm-11 1L8.5 8.5l.94-2.06 2.06-.94-2.06-.94L8.5 2.5l-.94 2.06-2.06.94zm10 10l.94 2.06.94-2.06 2.06-.94-2.06-.94-.94-2.06-.94 2.06-2.06.94z\"/><path d=\"M17.41 7.96l-1.37-1.37c-.4-.4-.92-.59-1.43-.59-.52 0-1.04.2-1.43.59L10.3 9.45l-7.72 7.72c-.78.78-.78 2.05 0 2.83L4 21.41c.39.39.9.59 1.41.59.51 0 1.02-.2 1.41-.59l7.78-7.78 2.81-2.81c.8-.78.8-2.07 0-2.86zM5.41 20L4 18.59l7.72-7.72 1.47 1.35L5.41 20z\"/>\n",
              "  </svg>\n",
              "      </button>\n",
              "      \n",
              "  <style>\n",
              "    .colab-df-container {\n",
              "      display:flex;\n",
              "      flex-wrap:wrap;\n",
              "      gap: 12px;\n",
              "    }\n",
              "\n",
              "    .colab-df-convert {\n",
              "      background-color: #E8F0FE;\n",
              "      border: none;\n",
              "      border-radius: 50%;\n",
              "      cursor: pointer;\n",
              "      display: none;\n",
              "      fill: #1967D2;\n",
              "      height: 32px;\n",
              "      padding: 0 0 0 0;\n",
              "      width: 32px;\n",
              "    }\n",
              "\n",
              "    .colab-df-convert:hover {\n",
              "      background-color: #E2EBFA;\n",
              "      box-shadow: 0px 1px 2px rgba(60, 64, 67, 0.3), 0px 1px 3px 1px rgba(60, 64, 67, 0.15);\n",
              "      fill: #174EA6;\n",
              "    }\n",
              "\n",
              "    [theme=dark] .colab-df-convert {\n",
              "      background-color: #3B4455;\n",
              "      fill: #D2E3FC;\n",
              "    }\n",
              "\n",
              "    [theme=dark] .colab-df-convert:hover {\n",
              "      background-color: #434B5C;\n",
              "      box-shadow: 0px 1px 3px 1px rgba(0, 0, 0, 0.15);\n",
              "      filter: drop-shadow(0px 1px 2px rgba(0, 0, 0, 0.3));\n",
              "      fill: #FFFFFF;\n",
              "    }\n",
              "  </style>\n",
              "\n",
              "      <script>\n",
              "        const buttonEl =\n",
              "          document.querySelector('#df-ca1553a9-1550-4369-a14a-ffb0691f707d button.colab-df-convert');\n",
              "        buttonEl.style.display =\n",
              "          google.colab.kernel.accessAllowed ? 'block' : 'none';\n",
              "\n",
              "        async function convertToInteractive(key) {\n",
              "          const element = document.querySelector('#df-ca1553a9-1550-4369-a14a-ffb0691f707d');\n",
              "          const dataTable =\n",
              "            await google.colab.kernel.invokeFunction('convertToInteractive',\n",
              "                                                     [key], {});\n",
              "          if (!dataTable) return;\n",
              "\n",
              "          const docLinkHtml = 'Like what you see? Visit the ' +\n",
              "            '<a target=\"_blank\" href=https://colab.research.google.com/notebooks/data_table.ipynb>data table notebook</a>'\n",
              "            + ' to learn more about interactive tables.';\n",
              "          element.innerHTML = '';\n",
              "          dataTable['output_type'] = 'display_data';\n",
              "          await google.colab.output.renderOutput(dataTable, element);\n",
              "          const docLink = document.createElement('div');\n",
              "          docLink.innerHTML = docLinkHtml;\n",
              "          element.appendChild(docLink);\n",
              "        }\n",
              "      </script>\n",
              "    </div>\n",
              "  </div>\n",
              "  "
            ]
          },
          "metadata": {}
        }
      ],
      "source": [
        " display (df)"
      ]
    },
    {
      "cell_type": "markdown",
      "metadata": {
        "id": "rZo5SnHX5SSD"
      },
      "source": [
        "Красный - победа.\n",
        "Синий - проигрыш. \n",
        "Результат оцениваем опираясь на таблицу построчно.\n",
        "\n",
        "rock - 0 побед, 99 проигрышей, 99 побед, 0 побед, 99 побед, 50 проигрышей, 98 проигрышей, 0 побед.\n"
      ]
    },
    {
      "cell_type": "code",
      "execution_count": null,
      "metadata": {
        "id": "h9np3yD04aCC",
        "colab": {
          "base_uri": "https://localhost:8080/",
          "height": 660
        },
        "outputId": "0ea80e74-6557-4efb-e750-2e31a26a0e1b"
      },
      "outputs": [
        {
          "output_type": "execute_result",
          "data": {
            "text/plain": [
              "<matplotlib.axes._subplots.AxesSubplot at 0x7fdf6bff83d0>"
            ]
          },
          "metadata": {},
          "execution_count": 40
        },
        {
          "output_type": "display_data",
          "data": {
            "text/plain": [
              "<Figure size 792x648 with 2 Axes>"
            ],
            "image/png": "[encoded data removed]"
          },
          "metadata": {
            "needs_background": "light"
          }
        }
      ],
      "source": [
        "fig, ax = plt.subplots(figsize=(11, 9))\n",
        "sns.heatmap(df, annot = True, vmin=-1, vmax=1, center= 0, cmap= 'coolwarm')"
      ]
    },
    {
      "cell_type": "markdown",
      "metadata": {
        "id": "Wrn_iEOR61EL"
      },
      "source": [
        "На удивление победил copy_opponent_plus\n"
      ]
    }
  ],
  "metadata": {
    "colab": {
      "collapsed_sections": [],
      "provenance": []
    },
    "kernelspec": {
      "display_name": "Python 3",
      "name": "python3"
    },
    "language_info": {
      "name": "python"
    }
  },
  "nbformat": 4,
  "nbformat_minor": 0
}