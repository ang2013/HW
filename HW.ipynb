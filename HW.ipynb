{
 "cells": [
  {
   "cell_type": "markdown",
   "id": "63731c5c",
   "metadata": {},
   "source": [
    "# Анализ ключевых показателей успеваемости студентов."
   ]
  },
  {
   "cell_type": "markdown",
   "id": "bbe4d5d5",
   "metadata": {},
   "source": [
    "## Цель исследования.\n",
    "\n",
    "Проанализировать характеристики, влияющие на успеваемость студентов, используя библиотеку pandas."
   ]
  },
  {
   "cell_type": "markdown",
   "id": "f548ae24",
   "metadata": {},
   "source": [
    "## Задачи исследования."
   ]
  },
  {
   "cell_type": "markdown",
   "id": "1252b30a",
   "metadata": {},
   "source": [
    "В приложенных файлах содержатся данные по прохождению студентами тестов на образовательной платформе. Такие данные могут быть использованы для построения персонализированных ИИ-ассистентов для поддержки обучения студента. Задачами текущего этапа исследовательского анализа является сбор и подготовка данных."
   ]
  },
  {
   "cell_type": "markdown",
   "id": "7e8657d6",
   "metadata": {},
   "source": [
    "## Загрузим библиотеки"
   ]
  },
  {
   "cell_type": "code",
   "execution_count": 178,
   "id": "8b8bf4be",
   "metadata": {},
   "outputs": [],
   "source": [
    "import pandas as pd\n",
    "import seaborn as sns\n",
    "import matplotlib.pyplot as plt\n",
    "\n",
    "import warnings\n",
    "warnings.filterwarnings(\"ignore\")"
   ]
  },
  {
   "cell_type": "markdown",
   "id": "470c2f51",
   "metadata": {},
   "source": [
    "## Загрузим таблицы"
   ]
  },
  {
   "cell_type": "markdown",
   "id": "b049fa9c",
   "metadata": {},
   "source": [
    "### Таблица Lectures"
   ]
  },
  {
   "cell_type": "markdown",
   "id": "0e6e27e9",
   "metadata": {},
   "source": [
    "Таблица lectures cодержит 4 столбца:\n",
    "\n",
    "**lecture_id** тип int, содержит целые числа. Внешний ключ, уникальный идентификатор лекции.\n",
    "\n",
    "**tag** тип int, содержит целые числа. Объединяют лекции по кластерам. Пояснение тегов не дано.\n",
    "\n",
    "**part** тип int, содержит целые числа. Объединение по категориям лекций.\n",
    "\n",
    "**type_of** тип object, содержит текстовые значения. Содержит информацию о целях лекции, которые делятся на 4 типа: starter ( вводная лекция), intention (лекция посвященная целям), concept ( концептуальные лекции, теория), solving question ( решение вопросов)."
   ]
  },
  {
   "cell_type": "code",
   "execution_count": 179,
   "id": "0a5b2d1a",
   "metadata": {},
   "outputs": [],
   "source": [
    "lectures = pd.read_csv (r'C:\\Users\\Admin\\Desktop\\lectures.csv', sep = ',')"
   ]
  },
  {
   "cell_type": "code",
   "execution_count": 180,
   "id": "d945f9fc",
   "metadata": {},
   "outputs": [
    {
     "data": {
      "text/html": [
       "<div>\n",
       "<style scoped>\n",
       "    .dataframe tbody tr th:only-of-type {\n",
       "        vertical-align: middle;\n",
       "    }\n",
       "\n",
       "    .dataframe tbody tr th {\n",
       "        vertical-align: top;\n",
       "    }\n",
       "\n",
       "    .dataframe thead th {\n",
       "        text-align: right;\n",
       "    }\n",
       "</style>\n",
       "<table border=\"1\" class=\"dataframe\">\n",
       "  <thead>\n",
       "    <tr style=\"text-align: right;\">\n",
       "      <th></th>\n",
       "      <th>lecture_id</th>\n",
       "      <th>tag</th>\n",
       "      <th>part</th>\n",
       "      <th>type_of</th>\n",
       "    </tr>\n",
       "  </thead>\n",
       "  <tbody>\n",
       "    <tr>\n",
       "      <th>0</th>\n",
       "      <td>89</td>\n",
       "      <td>159</td>\n",
       "      <td>5</td>\n",
       "      <td>concept</td>\n",
       "    </tr>\n",
       "    <tr>\n",
       "      <th>1</th>\n",
       "      <td>100</td>\n",
       "      <td>70</td>\n",
       "      <td>1</td>\n",
       "      <td>concept</td>\n",
       "    </tr>\n",
       "    <tr>\n",
       "      <th>2</th>\n",
       "      <td>185</td>\n",
       "      <td>45</td>\n",
       "      <td>6</td>\n",
       "      <td>concept</td>\n",
       "    </tr>\n",
       "    <tr>\n",
       "      <th>3</th>\n",
       "      <td>192</td>\n",
       "      <td>79</td>\n",
       "      <td>5</td>\n",
       "      <td>solving question</td>\n",
       "    </tr>\n",
       "    <tr>\n",
       "      <th>4</th>\n",
       "      <td>317</td>\n",
       "      <td>156</td>\n",
       "      <td>5</td>\n",
       "      <td>solving question</td>\n",
       "    </tr>\n",
       "  </tbody>\n",
       "</table>\n",
       "</div>"
      ],
      "text/plain": [
       "   lecture_id  tag  part           type_of\n",
       "0          89  159     5           concept\n",
       "1         100   70     1           concept\n",
       "2         185   45     6           concept\n",
       "3         192   79     5  solving question\n",
       "4         317  156     5  solving question"
      ]
     },
     "execution_count": 180,
     "metadata": {},
     "output_type": "execute_result"
    }
   ],
   "source": [
    "lectures.head()"
   ]
  },
  {
   "cell_type": "code",
   "execution_count": 181,
   "id": "a2c95911",
   "metadata": {},
   "outputs": [
    {
     "name": "stdout",
     "output_type": "stream",
     "text": [
      "<class 'pandas.core.frame.DataFrame'>\n",
      "RangeIndex: 418 entries, 0 to 417\n",
      "Data columns (total 4 columns):\n",
      " #   Column      Non-Null Count  Dtype \n",
      "---  ------      --------------  ----- \n",
      " 0   lecture_id  418 non-null    int64 \n",
      " 1   tag         418 non-null    int64 \n",
      " 2   part        418 non-null    int64 \n",
      " 3   type_of     418 non-null    object\n",
      "dtypes: int64(3), object(1)\n",
      "memory usage: 13.2+ KB\n"
     ]
    }
   ],
   "source": [
    "lectures.info()"
   ]
  },
  {
   "cell_type": "markdown",
   "id": "93910de1",
   "metadata": {},
   "source": [
    "В таблице 418 строк, пропусков не обнаружено."
   ]
  },
  {
   "cell_type": "code",
   "execution_count": 182,
   "id": "a5407766",
   "metadata": {},
   "outputs": [],
   "source": [
    "#проверим и удалим явные дубликаты\n",
    "lectures = lectures.drop_duplicates()"
   ]
  },
  {
   "cell_type": "code",
   "execution_count": 183,
   "id": "8acaa893",
   "metadata": {},
   "outputs": [
    {
     "name": "stdout",
     "output_type": "stream",
     "text": [
      "Существуют 418 идентификаторов лекций.\n"
     ]
    }
   ],
   "source": [
    "print('Существуют', lectures['lecture_id'].nunique(), 'идентификаторов лекций.')"
   ]
  },
  {
   "cell_type": "code",
   "execution_count": 184,
   "id": "448fa96e",
   "metadata": {},
   "outputs": [
    {
     "name": "stdout",
     "output_type": "stream",
     "text": [
      "Существуют 151 тегов лекций.\n"
     ]
    }
   ],
   "source": [
    "print('Существуют', lectures['tag'].nunique(), 'тегов лекций.')"
   ]
  },
  {
   "cell_type": "code",
   "execution_count": 185,
   "id": "80d02839",
   "metadata": {},
   "outputs": [
    {
     "name": "stdout",
     "output_type": "stream",
     "text": [
      "Существуют 4 типа лекций.\n"
     ]
    }
   ],
   "source": [
    "print('Существуют', lectures['type_of'].nunique(), 'типа лекций.')"
   ]
  },
  {
   "cell_type": "code",
   "execution_count": 186,
   "id": "350eeecc",
   "metadata": {},
   "outputs": [
    {
     "name": "stdout",
     "output_type": "stream",
     "text": [
      "Существуют 7 категорий лекций.\n"
     ]
    }
   ],
   "source": [
    "print('Существуют', lectures['part'].nunique(), 'категорий лекций.')"
   ]
  },
  {
   "cell_type": "code",
   "execution_count": 187,
   "id": "d5e99770",
   "metadata": {},
   "outputs": [
    {
     "data": {
      "text/plain": [
       "concept             0.53\n",
       "solving question    0.44\n",
       "intention           0.02\n",
       "starter             0.01\n",
       "Name: type_of, dtype: float64"
      ]
     },
     "execution_count": 187,
     "metadata": {},
     "output_type": "execute_result"
    }
   ],
   "source": [
    "#Посмотрим распределение лекций по типам в процентном соотношении:\n",
    "\n",
    "type_of = lectures['type_of'].value_counts(normalize = True).round(2)\n",
    "type_of"
   ]
  },
  {
   "cell_type": "code",
   "execution_count": 188,
   "id": "c6a63260",
   "metadata": {},
   "outputs": [
    {
     "data": {
      "image/png": "[encoded data removed]",
      "text/plain": [
       "<Figure size 648x360 with 1 Axes>"
      ]
     },
     "metadata": {
      "needs_background": "light"
     },
     "output_type": "display_data"
    }
   ],
   "source": [
    "type_of.plot(kind='bar',figsize=(9,5), title = 'Распределение лекций по типам')\n",
    "plt.xticks(rotation=45,horizontalalignment='right')\n",
    "plt.ylabel('Количество')\n",
    "plt.xlabel('Тип')\n",
    "plt.show()"
   ]
  },
  {
   "cell_type": "markdown",
   "id": "487b7d0f",
   "metadata": {},
   "source": [
    "Типы лекций деляться на 4 типа:\n",
    "- starter ( вводная лекция) 1%\n",
    "\n",
    "- intention (лекция посвященная целям) 2%\n",
    "\n",
    "- solving question ( решение вопросов) 44%\n",
    "\n",
    "- concept ( концептуальные лекции, теория) 53%\n"
   ]
  },
  {
   "cell_type": "code",
   "execution_count": 189,
   "id": "beec5040",
   "metadata": {},
   "outputs": [
    {
     "data": {
      "text/plain": [
       "5    0.34\n",
       "6    0.20\n",
       "2    0.13\n",
       "1    0.13\n",
       "7    0.08\n",
       "4    0.07\n",
       "3    0.05\n",
       "Name: part, dtype: float64"
      ]
     },
     "execution_count": 189,
     "metadata": {},
     "output_type": "execute_result"
    }
   ],
   "source": [
    "part = lectures['part'].value_counts(normalize = True, ascending = False).round(2)\n",
    "part"
   ]
  },
  {
   "cell_type": "code",
   "execution_count": 190,
   "id": "229166ce",
   "metadata": {},
   "outputs": [
    {
     "data": {
      "image/png": "[encoded data removed]",
      "text/plain": [
       "<Figure size 648x360 with 1 Axes>"
      ]
     },
     "metadata": {
      "needs_background": "light"
     },
     "output_type": "display_data"
    }
   ],
   "source": [
    "part.plot(kind='bar',figsize=(9,5), title = 'Распределение лекций по категориям')\n",
    "plt.show()"
   ]
  },
  {
   "cell_type": "code",
   "execution_count": 191,
   "id": "7e3eee18",
   "metadata": {},
   "outputs": [
    {
     "data": {
      "text/html": [
       "<div>\n",
       "<style scoped>\n",
       "    .dataframe tbody tr th:only-of-type {\n",
       "        vertical-align: middle;\n",
       "    }\n",
       "\n",
       "    .dataframe tbody tr th {\n",
       "        vertical-align: top;\n",
       "    }\n",
       "\n",
       "    .dataframe thead th {\n",
       "        text-align: right;\n",
       "    }\n",
       "</style>\n",
       "<table border=\"1\" class=\"dataframe\">\n",
       "  <thead>\n",
       "    <tr style=\"text-align: right;\">\n",
       "      <th></th>\n",
       "      <th>timestamp</th>\n",
       "      <th>user_id</th>\n",
       "      <th>content_id</th>\n",
       "      <th>content_type_id</th>\n",
       "      <th>task_container_id</th>\n",
       "      <th>user_answer</th>\n",
       "      <th>answered_correctly</th>\n",
       "      <th>prior_question_elapsed_time</th>\n",
       "      <th>prior_question_had_explanation</th>\n",
       "    </tr>\n",
       "  </thead>\n",
       "  <tbody>\n",
       "    <tr>\n",
       "      <th>0</th>\n",
       "      <td>0</td>\n",
       "      <td>115</td>\n",
       "      <td>5692</td>\n",
       "      <td>0</td>\n",
       "      <td>1</td>\n",
       "      <td>3</td>\n",
       "      <td>True</td>\n",
       "      <td>NaN</td>\n",
       "      <td>True</td>\n",
       "    </tr>\n",
       "    <tr>\n",
       "      <th>1</th>\n",
       "      <td>56943</td>\n",
       "      <td>115</td>\n",
       "      <td>5716</td>\n",
       "      <td>0</td>\n",
       "      <td>2</td>\n",
       "      <td>2</td>\n",
       "      <td>True</td>\n",
       "      <td>37000.0</td>\n",
       "      <td>False</td>\n",
       "    </tr>\n",
       "    <tr>\n",
       "      <th>2</th>\n",
       "      <td>118363</td>\n",
       "      <td>115</td>\n",
       "      <td>128</td>\n",
       "      <td>0</td>\n",
       "      <td>0</td>\n",
       "      <td>0</td>\n",
       "      <td>True</td>\n",
       "      <td>55000.0</td>\n",
       "      <td>False</td>\n",
       "    </tr>\n",
       "    <tr>\n",
       "      <th>3</th>\n",
       "      <td>131167</td>\n",
       "      <td>115</td>\n",
       "      <td>7860</td>\n",
       "      <td>0</td>\n",
       "      <td>3</td>\n",
       "      <td>0</td>\n",
       "      <td>True</td>\n",
       "      <td>19000.0</td>\n",
       "      <td>False</td>\n",
       "    </tr>\n",
       "    <tr>\n",
       "      <th>4</th>\n",
       "      <td>137965</td>\n",
       "      <td>115</td>\n",
       "      <td>7922</td>\n",
       "      <td>0</td>\n",
       "      <td>4</td>\n",
       "      <td>1</td>\n",
       "      <td>True</td>\n",
       "      <td>11000.0</td>\n",
       "      <td>False</td>\n",
       "    </tr>\n",
       "  </tbody>\n",
       "</table>\n",
       "</div>"
      ],
      "text/plain": [
       "   timestamp  user_id  content_id  content_type_id  task_container_id  \\\n",
       "0          0      115        5692                0                  1   \n",
       "1      56943      115        5716                0                  2   \n",
       "2     118363      115         128                0                  0   \n",
       "3     131167      115        7860                0                  3   \n",
       "4     137965      115        7922                0                  4   \n",
       "\n",
       "   user_answer  answered_correctly  prior_question_elapsed_time  \\\n",
       "0            3                True                          NaN   \n",
       "1            2                True                      37000.0   \n",
       "2            0                True                      55000.0   \n",
       "3            0                True                      19000.0   \n",
       "4            1                True                      11000.0   \n",
       "\n",
       "   prior_question_had_explanation  \n",
       "0                            True  \n",
       "1                           False  \n",
       "2                           False  \n",
       "3                           False  \n",
       "4                           False  "
      ]
     },
     "execution_count": 191,
     "metadata": {},
     "output_type": "execute_result"
    }
   ],
   "source": [
    "train.head()"
   ]
  },
  {
   "cell_type": "markdown",
   "id": "d1e5366a",
   "metadata": {},
   "source": [
    "### Таблица Questions"
   ]
  },
  {
   "cell_type": "code",
   "execution_count": 192,
   "id": "d979eac0",
   "metadata": {},
   "outputs": [],
   "source": [
    "questions = pd.read_csv (r'C:\\Users\\Admin\\Desktop\\questions.csv', sep = ',')"
   ]
  },
  {
   "cell_type": "code",
   "execution_count": 193,
   "id": "a09bf682",
   "metadata": {},
   "outputs": [
    {
     "data": {
      "text/html": [
       "<div>\n",
       "<style scoped>\n",
       "    .dataframe tbody tr th:only-of-type {\n",
       "        vertical-align: middle;\n",
       "    }\n",
       "\n",
       "    .dataframe tbody tr th {\n",
       "        vertical-align: top;\n",
       "    }\n",
       "\n",
       "    .dataframe thead th {\n",
       "        text-align: right;\n",
       "    }\n",
       "</style>\n",
       "<table border=\"1\" class=\"dataframe\">\n",
       "  <thead>\n",
       "    <tr style=\"text-align: right;\">\n",
       "      <th></th>\n",
       "      <th>question_id</th>\n",
       "      <th>bundle_id</th>\n",
       "      <th>correct_answer</th>\n",
       "      <th>part</th>\n",
       "      <th>tags</th>\n",
       "    </tr>\n",
       "  </thead>\n",
       "  <tbody>\n",
       "    <tr>\n",
       "      <th>0</th>\n",
       "      <td>0</td>\n",
       "      <td>0</td>\n",
       "      <td>0</td>\n",
       "      <td>1</td>\n",
       "      <td>51 131 162 38</td>\n",
       "    </tr>\n",
       "    <tr>\n",
       "      <th>1</th>\n",
       "      <td>1</td>\n",
       "      <td>1</td>\n",
       "      <td>1</td>\n",
       "      <td>1</td>\n",
       "      <td>131 36 81</td>\n",
       "    </tr>\n",
       "    <tr>\n",
       "      <th>2</th>\n",
       "      <td>2</td>\n",
       "      <td>2</td>\n",
       "      <td>0</td>\n",
       "      <td>1</td>\n",
       "      <td>131 101 162 92</td>\n",
       "    </tr>\n",
       "    <tr>\n",
       "      <th>3</th>\n",
       "      <td>3</td>\n",
       "      <td>3</td>\n",
       "      <td>0</td>\n",
       "      <td>1</td>\n",
       "      <td>131 149 162 29</td>\n",
       "    </tr>\n",
       "    <tr>\n",
       "      <th>4</th>\n",
       "      <td>4</td>\n",
       "      <td>4</td>\n",
       "      <td>3</td>\n",
       "      <td>1</td>\n",
       "      <td>131 5 162 38</td>\n",
       "    </tr>\n",
       "  </tbody>\n",
       "</table>\n",
       "</div>"
      ],
      "text/plain": [
       "   question_id  bundle_id  correct_answer  part            tags\n",
       "0            0          0               0     1   51 131 162 38\n",
       "1            1          1               1     1       131 36 81\n",
       "2            2          2               0     1  131 101 162 92\n",
       "3            3          3               0     1  131 149 162 29\n",
       "4            4          4               3     1    131 5 162 38"
      ]
     },
     "execution_count": 193,
     "metadata": {},
     "output_type": "execute_result"
    }
   ],
   "source": [
    "questions.head(5)"
   ]
  },
  {
   "cell_type": "code",
   "execution_count": 194,
   "id": "3a2da084",
   "metadata": {},
   "outputs": [
    {
     "name": "stdout",
     "output_type": "stream",
     "text": [
      "<class 'pandas.core.frame.DataFrame'>\n",
      "RangeIndex: 13523 entries, 0 to 13522\n",
      "Data columns (total 5 columns):\n",
      " #   Column          Non-Null Count  Dtype \n",
      "---  ------          --------------  ----- \n",
      " 0   question_id     13523 non-null  int64 \n",
      " 1   bundle_id       13523 non-null  int64 \n",
      " 2   correct_answer  13523 non-null  int64 \n",
      " 3   part            13523 non-null  int64 \n",
      " 4   tags            13522 non-null  object\n",
      "dtypes: int64(4), object(1)\n",
      "memory usage: 528.4+ KB\n"
     ]
    }
   ],
   "source": [
    "questions.info()"
   ]
  },
  {
   "cell_type": "code",
   "execution_count": 195,
   "id": "c1aaf547",
   "metadata": {},
   "outputs": [],
   "source": [
    "#проверим и удалим явные дубликаты\n",
    "questions = questions.drop_duplicates()"
   ]
  },
  {
   "cell_type": "code",
   "execution_count": 196,
   "id": "f591fa87",
   "metadata": {},
   "outputs": [],
   "source": [
    "#удалим пропущенные значения\n",
    "questions = questions.dropna()"
   ]
  },
  {
   "cell_type": "markdown",
   "id": "2cdf90f8",
   "metadata": {},
   "source": [
    "Для полноценной работы с данными нам необходимо иметь возможность хранить информацию о каждом теге в отдельном столбце."
   ]
  },
  {
   "cell_type": "code",
   "execution_count": 197,
   "id": "b157750f",
   "metadata": {},
   "outputs": [],
   "source": [
    "#преобразуем колонку с тегами\n",
    "questions['tags'] = questions['tags'].str.split(' ')"
   ]
  },
  {
   "cell_type": "code",
   "execution_count": 198,
   "id": "5509f466",
   "metadata": {},
   "outputs": [],
   "source": [
    "# создадим список уникальных тегов\n",
    "\n",
    "all_tags = list(questions['tags'])\n",
    "\n",
    "s = []\n",
    "for tags in all_tags:\n",
    "    for i in tags:\n",
    "        s.append(i)"
   ]
  },
  {
   "cell_type": "code",
   "execution_count": 199,
   "id": "7def8399",
   "metadata": {},
   "outputs": [],
   "source": [
    "s = set(s)"
   ]
  },
  {
   "cell_type": "markdown",
   "id": "78246970",
   "metadata": {},
   "source": [
    "Создадим функцию для заполнения значения в каждой ячейке. Функция будет проверять наличие конкретного тега в столбце tags для текущей строки и возвращать 1, если тег есть в рецепте, и 0, если он отсутствует."
   ]
  },
  {
   "cell_type": "code",
   "execution_count": 200,
   "id": "126708d5",
   "metadata": {},
   "outputs": [],
   "source": [
    "#функция для заполнения значений тегов\n",
    "\n",
    "def contains(tag_list): \n",
    "    if tag_name in tag_list: # Если тег есть в текущей строке,\n",
    "        return 1 # возвращаем значение 1\n",
    "    else: \n",
    "        return 0 # возвращаем значение 0"
   ]
  },
  {
   "cell_type": "code",
   "execution_count": 201,
   "id": "846a15d4",
   "metadata": {},
   "outputs": [],
   "source": [
    "for tag_name in s: # Последовательно перебираем ингредиенты в реестре all_ingredients\n",
    "    questions[tag_name] = questions['tags'].apply(contains) # В DataFrame cоздаем столбец с именем текущего ингредиента и заполняем его единицами и нулями, используя ранее созданную функцию contains\n",
    "\n",
    "questions['tags'] = questions['tags'].apply(len) # Заменяем список тегов в рецепте на их количество"
   ]
  },
  {
   "cell_type": "code",
   "execution_count": 202,
   "id": "e315f03d",
   "metadata": {},
   "outputs": [
    {
     "data": {
      "text/html": [
       "<div>\n",
       "<style scoped>\n",
       "    .dataframe tbody tr th:only-of-type {\n",
       "        vertical-align: middle;\n",
       "    }\n",
       "\n",
       "    .dataframe tbody tr th {\n",
       "        vertical-align: top;\n",
       "    }\n",
       "\n",
       "    .dataframe thead th {\n",
       "        text-align: right;\n",
       "    }\n",
       "</style>\n",
       "<table border=\"1\" class=\"dataframe\">\n",
       "  <thead>\n",
       "    <tr style=\"text-align: right;\">\n",
       "      <th></th>\n",
       "      <th>question_id</th>\n",
       "      <th>bundle_id</th>\n",
       "      <th>correct_answer</th>\n",
       "      <th>part</th>\n",
       "      <th>tags</th>\n",
       "      <th>58</th>\n",
       "      <th>168</th>\n",
       "      <th>63</th>\n",
       "      <th>84</th>\n",
       "      <th>149</th>\n",
       "      <th>...</th>\n",
       "      <th>94</th>\n",
       "      <th>30</th>\n",
       "      <th>158</th>\n",
       "      <th>140</th>\n",
       "      <th>16</th>\n",
       "      <th>120</th>\n",
       "      <th>170</th>\n",
       "      <th>179</th>\n",
       "      <th>18</th>\n",
       "      <th>77</th>\n",
       "    </tr>\n",
       "  </thead>\n",
       "  <tbody>\n",
       "    <tr>\n",
       "      <th>0</th>\n",
       "      <td>0</td>\n",
       "      <td>0</td>\n",
       "      <td>0</td>\n",
       "      <td>1</td>\n",
       "      <td>4</td>\n",
       "      <td>0</td>\n",
       "      <td>0</td>\n",
       "      <td>0</td>\n",
       "      <td>0</td>\n",
       "      <td>0</td>\n",
       "      <td>...</td>\n",
       "      <td>0</td>\n",
       "      <td>0</td>\n",
       "      <td>0</td>\n",
       "      <td>0</td>\n",
       "      <td>0</td>\n",
       "      <td>0</td>\n",
       "      <td>0</td>\n",
       "      <td>0</td>\n",
       "      <td>0</td>\n",
       "      <td>0</td>\n",
       "    </tr>\n",
       "    <tr>\n",
       "      <th>1</th>\n",
       "      <td>1</td>\n",
       "      <td>1</td>\n",
       "      <td>1</td>\n",
       "      <td>1</td>\n",
       "      <td>3</td>\n",
       "      <td>0</td>\n",
       "      <td>0</td>\n",
       "      <td>0</td>\n",
       "      <td>0</td>\n",
       "      <td>0</td>\n",
       "      <td>...</td>\n",
       "      <td>0</td>\n",
       "      <td>0</td>\n",
       "      <td>0</td>\n",
       "      <td>0</td>\n",
       "      <td>0</td>\n",
       "      <td>0</td>\n",
       "      <td>0</td>\n",
       "      <td>0</td>\n",
       "      <td>0</td>\n",
       "      <td>0</td>\n",
       "    </tr>\n",
       "    <tr>\n",
       "      <th>2</th>\n",
       "      <td>2</td>\n",
       "      <td>2</td>\n",
       "      <td>0</td>\n",
       "      <td>1</td>\n",
       "      <td>4</td>\n",
       "      <td>0</td>\n",
       "      <td>0</td>\n",
       "      <td>0</td>\n",
       "      <td>0</td>\n",
       "      <td>0</td>\n",
       "      <td>...</td>\n",
       "      <td>0</td>\n",
       "      <td>0</td>\n",
       "      <td>0</td>\n",
       "      <td>0</td>\n",
       "      <td>0</td>\n",
       "      <td>0</td>\n",
       "      <td>0</td>\n",
       "      <td>0</td>\n",
       "      <td>0</td>\n",
       "      <td>0</td>\n",
       "    </tr>\n",
       "    <tr>\n",
       "      <th>3</th>\n",
       "      <td>3</td>\n",
       "      <td>3</td>\n",
       "      <td>0</td>\n",
       "      <td>1</td>\n",
       "      <td>4</td>\n",
       "      <td>0</td>\n",
       "      <td>0</td>\n",
       "      <td>0</td>\n",
       "      <td>0</td>\n",
       "      <td>1</td>\n",
       "      <td>...</td>\n",
       "      <td>0</td>\n",
       "      <td>0</td>\n",
       "      <td>0</td>\n",
       "      <td>0</td>\n",
       "      <td>0</td>\n",
       "      <td>0</td>\n",
       "      <td>0</td>\n",
       "      <td>0</td>\n",
       "      <td>0</td>\n",
       "      <td>0</td>\n",
       "    </tr>\n",
       "    <tr>\n",
       "      <th>4</th>\n",
       "      <td>4</td>\n",
       "      <td>4</td>\n",
       "      <td>3</td>\n",
       "      <td>1</td>\n",
       "      <td>4</td>\n",
       "      <td>0</td>\n",
       "      <td>0</td>\n",
       "      <td>0</td>\n",
       "      <td>0</td>\n",
       "      <td>0</td>\n",
       "      <td>...</td>\n",
       "      <td>0</td>\n",
       "      <td>0</td>\n",
       "      <td>0</td>\n",
       "      <td>0</td>\n",
       "      <td>0</td>\n",
       "      <td>0</td>\n",
       "      <td>0</td>\n",
       "      <td>0</td>\n",
       "      <td>0</td>\n",
       "      <td>0</td>\n",
       "    </tr>\n",
       "  </tbody>\n",
       "</table>\n",
       "<p>5 rows × 193 columns</p>\n",
       "</div>"
      ],
      "text/plain": [
       "   question_id  bundle_id  correct_answer  part  tags  58  168  63  84  149  \\\n",
       "0            0          0               0     1     4   0    0   0   0    0   \n",
       "1            1          1               1     1     3   0    0   0   0    0   \n",
       "2            2          2               0     1     4   0    0   0   0    0   \n",
       "3            3          3               0     1     4   0    0   0   0    1   \n",
       "4            4          4               3     1     4   0    0   0   0    0   \n",
       "\n",
       "   ...  94  30  158  140  16  120  170  179  18  77  \n",
       "0  ...   0   0    0    0   0    0    0    0   0   0  \n",
       "1  ...   0   0    0    0   0    0    0    0   0   0  \n",
       "2  ...   0   0    0    0   0    0    0    0   0   0  \n",
       "3  ...   0   0    0    0   0    0    0    0   0   0  \n",
       "4  ...   0   0    0    0   0    0    0    0   0   0  \n",
       "\n",
       "[5 rows x 193 columns]"
      ]
     },
     "execution_count": 202,
     "metadata": {},
     "output_type": "execute_result"
    }
   ],
   "source": [
    "questions.head()"
   ]
  },
  {
   "cell_type": "code",
   "execution_count": 203,
   "id": "56162c16",
   "metadata": {},
   "outputs": [
    {
     "data": {
      "text/plain": [
       "5    0.407558\n",
       "2    0.121802\n",
       "3    0.115515\n",
       "4    0.106419\n",
       "6    0.089558\n",
       "7    0.085786\n",
       "1    0.073362\n",
       "Name: part, dtype: float64"
      ]
     },
     "execution_count": 203,
     "metadata": {},
     "output_type": "execute_result"
    }
   ],
   "source": [
    "part_q = questions['part'].value_counts(normalize = True)\n",
    "part_q "
   ]
  },
  {
   "cell_type": "code",
   "execution_count": 204,
   "id": "07066c5f",
   "metadata": {},
   "outputs": [
    {
     "data": {
      "image/png": "[encoded data removed]",
      "text/plain": [
       "<Figure size 648x360 with 1 Axes>"
      ]
     },
     "metadata": {
      "needs_background": "light"
     },
     "output_type": "display_data"
    }
   ],
   "source": [
    "part_q.plot(kind='bar',figsize=(9,5))\n",
    "plt.title('Типы вопросов по классификации TOEIC')\n",
    "plt.show()"
   ]
  },
  {
   "cell_type": "markdown",
   "id": "f8fee161",
   "metadata": {},
   "source": [
    "- **question_id**: Идентификатор вопроса, внешний ключ, дублирует индексы\n",
    "\n",
    "\n",
    "- **bundle_id**: Дублирует идентификатор вопроса и индексы.\n",
    "\n",
    "\n",
    "- **correct_answer** : Ответ на вопрос. Проверяет ответил ли студент правильно в таблице train.\n",
    "\n",
    "\n",
    "- **part**: Группы вопросов аналогичные тесту TOEIC.\n",
    "\n",
    "\n",
    "- **tags**: Теги для кластеризации вопросов."
   ]
  },
  {
   "cell_type": "markdown",
   "id": "ef0c3523",
   "metadata": {},
   "source": [
    "Чтобы работать с тэгами применим изученную функцию."
   ]
  },
  {
   "cell_type": "markdown",
   "id": "451ca5e5",
   "metadata": {},
   "source": [
    "### Таблица Train"
   ]
  },
  {
   "cell_type": "code",
   "execution_count": 205,
   "id": "61eb52a4",
   "metadata": {},
   "outputs": [],
   "source": [
    "train = pd.read_csv (r'C:\\Users\\Admin\\Desktop\\train.csv', sep = ',', nrows=500000)\n",
    "\n",
    "#у меня ограничена память, поэтому для работы я оставила 500 000 строк"
   ]
  },
  {
   "cell_type": "code",
   "execution_count": 206,
   "id": "811d311a",
   "metadata": {},
   "outputs": [
    {
     "data": {
      "text/html": [
       "<div>\n",
       "<style scoped>\n",
       "    .dataframe tbody tr th:only-of-type {\n",
       "        vertical-align: middle;\n",
       "    }\n",
       "\n",
       "    .dataframe tbody tr th {\n",
       "        vertical-align: top;\n",
       "    }\n",
       "\n",
       "    .dataframe thead th {\n",
       "        text-align: right;\n",
       "    }\n",
       "</style>\n",
       "<table border=\"1\" class=\"dataframe\">\n",
       "  <thead>\n",
       "    <tr style=\"text-align: right;\">\n",
       "      <th></th>\n",
       "      <th>row_id</th>\n",
       "      <th>timestamp</th>\n",
       "      <th>user_id</th>\n",
       "      <th>content_id</th>\n",
       "      <th>content_type_id</th>\n",
       "      <th>task_container_id</th>\n",
       "      <th>user_answer</th>\n",
       "      <th>answered_correctly</th>\n",
       "      <th>prior_question_elapsed_time</th>\n",
       "      <th>prior_question_had_explanation</th>\n",
       "    </tr>\n",
       "  </thead>\n",
       "  <tbody>\n",
       "    <tr>\n",
       "      <th>0</th>\n",
       "      <td>0</td>\n",
       "      <td>0</td>\n",
       "      <td>115</td>\n",
       "      <td>5692</td>\n",
       "      <td>0</td>\n",
       "      <td>1</td>\n",
       "      <td>3</td>\n",
       "      <td>1</td>\n",
       "      <td>NaN</td>\n",
       "      <td>NaN</td>\n",
       "    </tr>\n",
       "    <tr>\n",
       "      <th>1</th>\n",
       "      <td>1</td>\n",
       "      <td>56943</td>\n",
       "      <td>115</td>\n",
       "      <td>5716</td>\n",
       "      <td>0</td>\n",
       "      <td>2</td>\n",
       "      <td>2</td>\n",
       "      <td>1</td>\n",
       "      <td>37000.0</td>\n",
       "      <td>False</td>\n",
       "    </tr>\n",
       "    <tr>\n",
       "      <th>2</th>\n",
       "      <td>2</td>\n",
       "      <td>118363</td>\n",
       "      <td>115</td>\n",
       "      <td>128</td>\n",
       "      <td>0</td>\n",
       "      <td>0</td>\n",
       "      <td>0</td>\n",
       "      <td>1</td>\n",
       "      <td>55000.0</td>\n",
       "      <td>False</td>\n",
       "    </tr>\n",
       "    <tr>\n",
       "      <th>3</th>\n",
       "      <td>3</td>\n",
       "      <td>131167</td>\n",
       "      <td>115</td>\n",
       "      <td>7860</td>\n",
       "      <td>0</td>\n",
       "      <td>3</td>\n",
       "      <td>0</td>\n",
       "      <td>1</td>\n",
       "      <td>19000.0</td>\n",
       "      <td>False</td>\n",
       "    </tr>\n",
       "    <tr>\n",
       "      <th>4</th>\n",
       "      <td>4</td>\n",
       "      <td>137965</td>\n",
       "      <td>115</td>\n",
       "      <td>7922</td>\n",
       "      <td>0</td>\n",
       "      <td>4</td>\n",
       "      <td>1</td>\n",
       "      <td>1</td>\n",
       "      <td>11000.0</td>\n",
       "      <td>False</td>\n",
       "    </tr>\n",
       "  </tbody>\n",
       "</table>\n",
       "</div>"
      ],
      "text/plain": [
       "   row_id  timestamp  user_id  content_id  content_type_id  task_container_id  \\\n",
       "0       0          0      115        5692                0                  1   \n",
       "1       1      56943      115        5716                0                  2   \n",
       "2       2     118363      115         128                0                  0   \n",
       "3       3     131167      115        7860                0                  3   \n",
       "4       4     137965      115        7922                0                  4   \n",
       "\n",
       "   user_answer  answered_correctly  prior_question_elapsed_time  \\\n",
       "0            3                   1                          NaN   \n",
       "1            2                   1                      37000.0   \n",
       "2            0                   1                      55000.0   \n",
       "3            0                   1                      19000.0   \n",
       "4            1                   1                      11000.0   \n",
       "\n",
       "  prior_question_had_explanation  \n",
       "0                            NaN  \n",
       "1                          False  \n",
       "2                          False  \n",
       "3                          False  \n",
       "4                          False  "
      ]
     },
     "execution_count": 206,
     "metadata": {},
     "output_type": "execute_result"
    }
   ],
   "source": [
    "train.head()"
   ]
  },
  {
   "cell_type": "code",
   "execution_count": 207,
   "id": "e55857b6",
   "metadata": {},
   "outputs": [
    {
     "name": "stdout",
     "output_type": "stream",
     "text": [
      "<class 'pandas.core.frame.DataFrame'>\n",
      "RangeIndex: 500000 entries, 0 to 499999\n",
      "Data columns (total 10 columns):\n",
      " #   Column                          Non-Null Count   Dtype  \n",
      "---  ------                          --------------   -----  \n",
      " 0   row_id                          500000 non-null  int64  \n",
      " 1   timestamp                       500000 non-null  int64  \n",
      " 2   user_id                         500000 non-null  int64  \n",
      " 3   content_id                      500000 non-null  int64  \n",
      " 4   content_type_id                 500000 non-null  int64  \n",
      " 5   task_container_id               500000 non-null  int64  \n",
      " 6   user_answer                     500000 non-null  int64  \n",
      " 7   answered_correctly              500000 non-null  int64  \n",
      " 8   prior_question_elapsed_time     488373 non-null  float64\n",
      " 9   prior_question_had_explanation  498254 non-null  object \n",
      "dtypes: float64(1), int64(8), object(1)\n",
      "memory usage: 38.1+ MB\n"
     ]
    }
   ],
   "source": [
    "train.info()"
   ]
  },
  {
   "cell_type": "code",
   "execution_count": 208,
   "id": "df0096c9",
   "metadata": {},
   "outputs": [
    {
     "name": "stdout",
     "output_type": "stream",
     "text": [
      "В колонке user_id: 1749 уникальных пользователей\n"
     ]
    }
   ],
   "source": [
    "print ('В колонке user_id:', train['user_id'].nunique(), 'уникальных пользователей')"
   ]
  },
  {
   "cell_type": "code",
   "execution_count": 209,
   "id": "87e5c53d",
   "metadata": {},
   "outputs": [
    {
     "name": "stdout",
     "output_type": "stream",
     "text": [
      "В колонке content_id: 13120 значений\n"
     ]
    }
   ],
   "source": [
    "print ('В колонке content_id:', train['content_id'].nunique(), 'значений')"
   ]
  },
  {
   "cell_type": "markdown",
   "id": "1177b4e2",
   "metadata": {},
   "source": [
    "Столбец **prior_question_had_explanation** преобразуем в булев тип.\n",
    "Столбец **answered_correctly** тоже должен содержать булевы значения, строка содержит значения (-1), что вероятно ошибочно. Представим что мы уже обратились за уточнением к источнику данных, который подтвердил нашу гипотезу."
   ]
  },
  {
   "cell_type": "code",
   "execution_count": 210,
   "id": "03422c0b",
   "metadata": {},
   "outputs": [],
   "source": [
    "# Заменим тип данных\n",
    "train['prior_question_had_explanation'] = train['prior_question_had_explanation'].astype(bool)\n",
    "train['answered_correctly'] = train['answered_correctly'].astype(bool)"
   ]
  },
  {
   "cell_type": "code",
   "execution_count": 211,
   "id": "0e772272",
   "metadata": {},
   "outputs": [
    {
     "data": {
      "text/plain": [
       " 0    138223\n",
       " 1    133683\n",
       " 3    129029\n",
       " 2     89184\n",
       "-1      9881\n",
       "Name: user_answer, dtype: int64"
      ]
     },
     "execution_count": 211,
     "metadata": {},
     "output_type": "execute_result"
    }
   ],
   "source": [
    "train ['user_answer'].value_counts()"
   ]
  },
  {
   "cell_type": "code",
   "execution_count": 212,
   "id": "daf7e689",
   "metadata": {},
   "outputs": [],
   "source": [
    "train['user_answer'] = train['user_answer'].abs()"
   ]
  },
  {
   "cell_type": "markdown",
   "id": "db71c2a5",
   "metadata": {},
   "source": [
    "Колонка **user_answer** cодержит значение -1, поступим аналогично, исходя из того, что нам подтвердил источник что -1 это 1."
   ]
  },
  {
   "cell_type": "code",
   "execution_count": 213,
   "id": "eff100cf",
   "metadata": {},
   "outputs": [],
   "source": [
    "# Удалим колонку row_id как дублирующую индексы строк\n",
    "train = train.drop('row_id', axis=1)"
   ]
  },
  {
   "cell_type": "code",
   "execution_count": 214,
   "id": "b644f06a",
   "metadata": {},
   "outputs": [
    {
     "data": {
      "text/plain": [
       "0    0.98\n",
       "1    0.02\n",
       "Name: content_type_id, dtype: float64"
      ]
     },
     "execution_count": 214,
     "metadata": {},
     "output_type": "execute_result"
    }
   ],
   "source": [
    "train['content_type_id'].value_counts(normalize = True).round(2)"
   ]
  },
  {
   "cell_type": "markdown",
   "id": "edd79c88",
   "metadata": {},
   "source": [
    "Только 2% значений столбца тип контента содержит значение 1. "
   ]
  },
  {
   "cell_type": "markdown",
   "id": "598f9b10",
   "metadata": {},
   "source": [
    "Дадим описание колонкам."
   ]
  },
  {
   "cell_type": "markdown",
   "id": "9db36020",
   "metadata": {},
   "source": [
    "- **timestamp**\n",
    "\n",
    "\n",
    "- **user_id** Идентификатор пользователя.\n",
    "\n",
    "\n",
    "- **content_id** Идентификатор пользовательского взаимодействия.\n",
    "\n",
    "\n",
    "- **content_type_id** Тип пользовательского взаимодействия. Вопрос для пользователя - 0. Просмотр пользователем лекции - 1\n",
    "\n",
    "\n",
    "- **task_container_id** Идентификатор для серии вопросов или серии лекций.\n",
    "\n",
    "\n",
    "- **user_answer** Ответы пользователей.\n",
    "\n",
    "\n",
    "- **answered_correctly** Правильные ответы.\n",
    "\n",
    "\n",
    "- **prior_question_elapsed_time**  Среднее время в милисекундах, которое потребовалось пользователю, чтоб ответить на каждый вопрос в предыдущем наборе вопросов.  Равно нулю для первого пакета вопросов.\n",
    "\n",
    "\n",
    "- **prior_question_had_explanation**"
   ]
  },
  {
   "cell_type": "code",
   "execution_count": 215,
   "id": "4893dcb5",
   "metadata": {},
   "outputs": [
    {
     "data": {
      "text/html": [
       "<div>\n",
       "<style scoped>\n",
       "    .dataframe tbody tr th:only-of-type {\n",
       "        vertical-align: middle;\n",
       "    }\n",
       "\n",
       "    .dataframe tbody tr th {\n",
       "        vertical-align: top;\n",
       "    }\n",
       "\n",
       "    .dataframe thead th {\n",
       "        text-align: right;\n",
       "    }\n",
       "</style>\n",
       "<table border=\"1\" class=\"dataframe\">\n",
       "  <thead>\n",
       "    <tr style=\"text-align: right;\">\n",
       "      <th></th>\n",
       "      <th>count</th>\n",
       "      <th>mean</th>\n",
       "      <th>std</th>\n",
       "      <th>min</th>\n",
       "      <th>25%</th>\n",
       "      <th>50%</th>\n",
       "      <th>75%</th>\n",
       "      <th>max</th>\n",
       "    </tr>\n",
       "  </thead>\n",
       "  <tbody>\n",
       "    <tr>\n",
       "      <th>timestamp</th>\n",
       "      <td>500000.0</td>\n",
       "      <td>7.240829e+09</td>\n",
       "      <td>1.067811e+10</td>\n",
       "      <td>0.0</td>\n",
       "      <td>5.322578e+08</td>\n",
       "      <td>2.926425e+09</td>\n",
       "      <td>9.534202e+09</td>\n",
       "      <td>7.809200e+10</td>\n",
       "    </tr>\n",
       "    <tr>\n",
       "      <th>user_id</th>\n",
       "      <td>500000.0</td>\n",
       "      <td>4.929594e+06</td>\n",
       "      <td>2.778324e+06</td>\n",
       "      <td>115.0</td>\n",
       "      <td>2.641711e+06</td>\n",
       "      <td>4.702585e+06</td>\n",
       "      <td>7.171715e+06</td>\n",
       "      <td>9.678259e+06</td>\n",
       "    </tr>\n",
       "    <tr>\n",
       "      <th>content_id</th>\n",
       "      <td>500000.0</td>\n",
       "      <td>5.285476e+03</td>\n",
       "      <td>3.906227e+03</td>\n",
       "      <td>0.0</td>\n",
       "      <td>2.063000e+03</td>\n",
       "      <td>5.160000e+03</td>\n",
       "      <td>7.641000e+03</td>\n",
       "      <td>3.273600e+04</td>\n",
       "    </tr>\n",
       "    <tr>\n",
       "      <th>content_type_id</th>\n",
       "      <td>500000.0</td>\n",
       "      <td>1.976200e-02</td>\n",
       "      <td>1.391815e-01</td>\n",
       "      <td>0.0</td>\n",
       "      <td>0.000000e+00</td>\n",
       "      <td>0.000000e+00</td>\n",
       "      <td>0.000000e+00</td>\n",
       "      <td>1.000000e+00</td>\n",
       "    </tr>\n",
       "    <tr>\n",
       "      <th>task_container_id</th>\n",
       "      <td>500000.0</td>\n",
       "      <td>8.916981e+02</td>\n",
       "      <td>1.121464e+03</td>\n",
       "      <td>0.0</td>\n",
       "      <td>1.220000e+02</td>\n",
       "      <td>4.360000e+02</td>\n",
       "      <td>1.256000e+03</td>\n",
       "      <td>7.739000e+03</td>\n",
       "    </tr>\n",
       "    <tr>\n",
       "      <th>user_answer</th>\n",
       "      <td>500000.0</td>\n",
       "      <td>1.418038e+00</td>\n",
       "      <td>1.145554e+00</td>\n",
       "      <td>0.0</td>\n",
       "      <td>0.000000e+00</td>\n",
       "      <td>1.000000e+00</td>\n",
       "      <td>3.000000e+00</td>\n",
       "      <td>3.000000e+00</td>\n",
       "    </tr>\n",
       "    <tr>\n",
       "      <th>prior_question_elapsed_time</th>\n",
       "      <td>488373.0</td>\n",
       "      <td>2.486088e+04</td>\n",
       "      <td>1.917049e+04</td>\n",
       "      <td>0.0</td>\n",
       "      <td>1.566700e+04</td>\n",
       "      <td>2.100000e+04</td>\n",
       "      <td>2.900000e+04</td>\n",
       "      <td>3.000000e+05</td>\n",
       "    </tr>\n",
       "  </tbody>\n",
       "</table>\n",
       "</div>"
      ],
      "text/plain": [
       "                                count          mean           std    min  \\\n",
       "timestamp                    500000.0  7.240829e+09  1.067811e+10    0.0   \n",
       "user_id                      500000.0  4.929594e+06  2.778324e+06  115.0   \n",
       "content_id                   500000.0  5.285476e+03  3.906227e+03    0.0   \n",
       "content_type_id              500000.0  1.976200e-02  1.391815e-01    0.0   \n",
       "task_container_id            500000.0  8.916981e+02  1.121464e+03    0.0   \n",
       "user_answer                  500000.0  1.418038e+00  1.145554e+00    0.0   \n",
       "prior_question_elapsed_time  488373.0  2.486088e+04  1.917049e+04    0.0   \n",
       "\n",
       "                                      25%           50%           75%  \\\n",
       "timestamp                    5.322578e+08  2.926425e+09  9.534202e+09   \n",
       "user_id                      2.641711e+06  4.702585e+06  7.171715e+06   \n",
       "content_id                   2.063000e+03  5.160000e+03  7.641000e+03   \n",
       "content_type_id              0.000000e+00  0.000000e+00  0.000000e+00   \n",
       "task_container_id            1.220000e+02  4.360000e+02  1.256000e+03   \n",
       "user_answer                  0.000000e+00  1.000000e+00  3.000000e+00   \n",
       "prior_question_elapsed_time  1.566700e+04  2.100000e+04  2.900000e+04   \n",
       "\n",
       "                                      max  \n",
       "timestamp                    7.809200e+10  \n",
       "user_id                      9.678259e+06  \n",
       "content_id                   3.273600e+04  \n",
       "content_type_id              1.000000e+00  \n",
       "task_container_id            7.739000e+03  \n",
       "user_answer                  3.000000e+00  \n",
       "prior_question_elapsed_time  3.000000e+05  "
      ]
     },
     "execution_count": 215,
     "metadata": {},
     "output_type": "execute_result"
    }
   ],
   "source": [
    "train.describe().T"
   ]
  },
  {
   "cell_type": "code",
   "execution_count": 216,
   "id": "1d3d88e7",
   "metadata": {},
   "outputs": [],
   "source": [
    "#удалим дубликаты\n",
    "train = train.drop_duplicates()"
   ]
  },
  {
   "cell_type": "code",
   "execution_count": 217,
   "id": "a614efff",
   "metadata": {},
   "outputs": [
    {
     "data": {
      "text/plain": [
       "(499999, 9)"
      ]
     },
     "execution_count": 217,
     "metadata": {},
     "output_type": "execute_result"
    }
   ],
   "source": [
    "train.shape"
   ]
  },
  {
   "cell_type": "code",
   "execution_count": 218,
   "id": "af9301d9",
   "metadata": {},
   "outputs": [
    {
     "data": {
      "text/html": [
       "<div>\n",
       "<style scoped>\n",
       "    .dataframe tbody tr th:only-of-type {\n",
       "        vertical-align: middle;\n",
       "    }\n",
       "\n",
       "    .dataframe tbody tr th {\n",
       "        vertical-align: top;\n",
       "    }\n",
       "\n",
       "    .dataframe thead th {\n",
       "        text-align: right;\n",
       "    }\n",
       "</style>\n",
       "<table border=\"1\" class=\"dataframe\">\n",
       "  <thead>\n",
       "    <tr style=\"text-align: right;\">\n",
       "      <th>answered_correctly</th>\n",
       "      <th>False</th>\n",
       "      <th>True</th>\n",
       "    </tr>\n",
       "  </thead>\n",
       "  <tbody>\n",
       "    <tr>\n",
       "      <th>timestamp</th>\n",
       "      <td>6.459811e+09</td>\n",
       "      <td>7.637603e+09</td>\n",
       "    </tr>\n",
       "    <tr>\n",
       "      <th>user_id</th>\n",
       "      <td>5.061140e+06</td>\n",
       "      <td>4.862766e+06</td>\n",
       "    </tr>\n",
       "    <tr>\n",
       "      <th>content_id</th>\n",
       "      <td>5.150123e+03</td>\n",
       "      <td>5.354247e+03</td>\n",
       "    </tr>\n",
       "    <tr>\n",
       "      <th>content_type_id</th>\n",
       "      <td>0.000000e+00</td>\n",
       "      <td>2.980217e-02</td>\n",
       "    </tr>\n",
       "    <tr>\n",
       "      <th>task_container_id</th>\n",
       "      <td>8.642894e+02</td>\n",
       "      <td>9.056162e+02</td>\n",
       "    </tr>\n",
       "    <tr>\n",
       "      <th>user_answer</th>\n",
       "      <td>1.421114e+00</td>\n",
       "      <td>1.416473e+00</td>\n",
       "    </tr>\n",
       "    <tr>\n",
       "      <th>prior_question_elapsed_time</th>\n",
       "      <td>2.449823e+04</td>\n",
       "      <td>2.505093e+04</td>\n",
       "    </tr>\n",
       "    <tr>\n",
       "      <th>prior_question_had_explanation</th>\n",
       "      <td>8.812142e-01</td>\n",
       "      <td>9.094172e-01</td>\n",
       "    </tr>\n",
       "  </tbody>\n",
       "</table>\n",
       "</div>"
      ],
      "text/plain": [
       "answered_correctly                     False          True\n",
       "timestamp                       6.459811e+09  7.637603e+09\n",
       "user_id                         5.061140e+06  4.862766e+06\n",
       "content_id                      5.150123e+03  5.354247e+03\n",
       "content_type_id                 0.000000e+00  2.980217e-02\n",
       "task_container_id               8.642894e+02  9.056162e+02\n",
       "user_answer                     1.421114e+00  1.416473e+00\n",
       "prior_question_elapsed_time     2.449823e+04  2.505093e+04\n",
       "prior_question_had_explanation  8.812142e-01  9.094172e-01"
      ]
     },
     "execution_count": 218,
     "metadata": {},
     "output_type": "execute_result"
    }
   ],
   "source": [
    "correctly = train.groupby(by = 'answered_correctly').mean().T\n",
    "correctly"
   ]
  },
  {
   "cell_type": "code",
   "execution_count": 219,
   "id": "06a3184e",
   "metadata": {},
   "outputs": [
    {
     "data": {
      "image/png": "[encoded data removed]",
      "text/plain": [
       "<Figure size 936x720 with 2 Axes>"
      ]
     },
     "metadata": {
      "needs_background": "light"
     },
     "output_type": "display_data"
    }
   ],
   "source": [
    "corr = train.corr()\n",
    "plt.figure(figsize=(13, 10))\n",
    "sns.heatmap(corr,  annot = True, fmt = '0.2f', linewidths= 1,  )\n",
    "plt.show()"
   ]
  },
  {
   "cell_type": "markdown",
   "id": "c60f986c",
   "metadata": {},
   "source": [
    "Мы не нашли значимых корреляций между столбцами."
   ]
  },
  {
   "cell_type": "markdown",
   "id": "1756b9f5",
   "metadata": {},
   "source": [
    "Посмотрим количество верных и неверных ответов."
   ]
  },
  {
   "cell_type": "code",
   "execution_count": 220,
   "id": "d4015c82",
   "metadata": {},
   "outputs": [
    {
     "data": {
      "image/png": "[encoded data removed]",
      "text/plain": [
       "<Figure size 864x288 with 1 Axes>"
      ]
     },
     "metadata": {
      "needs_background": "light"
     },
     "output_type": "display_data"
    }
   ],
   "source": [
    "correct = train[train.answered_correctly != -1].answered_correctly.value_counts(ascending=True)\n",
    "\n",
    "fig = plt.figure(figsize=(12,4))\n",
    "correct.plot.barh()\n",
    "for i, v in zip(correct.index, correct.values):\n",
    "    plt.text(v, i, '{:,}'.format(v), color='white', fontweight='bold', fontsize=14, ha='right', va='center')\n",
    "plt.title('Верно отвеченные вопросы')\n",
    "plt.xticks(rotation=0)\n",
    "plt.show()"
   ]
  }
 ],
 "metadata": {
  "kernelspec": {
   "display_name": "Python 3 (ipykernel)",
   "language": "python",
   "name": "python3"
  },
  "language_info": {
   "codemirror_mode": {
    "name": "ipython",
    "version": 3
   },
   "file_extension": ".py",
   "mimetype": "text/x-python",
   "name": "python",
   "nbconvert_exporter": "python",
   "pygments_lexer": "ipython3",
   "version": "3.9.7"
  }
 },
 "nbformat": 4,
 "nbformat_minor": 5
}
